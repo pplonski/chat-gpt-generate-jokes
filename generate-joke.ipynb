{
 "cells": [
  {
   "cell_type": "code",
   "execution_count": 1,
   "id": "776f540e",
   "metadata": {},
   "outputs": [],
   "source": [
    "import os\n",
    "import openai\n",
    "import mercury as mr\n",
    "from dotenv import load_dotenv"
   ]
  },
  {
   "cell_type": "code",
   "execution_count": 2,
   "id": "21e241e3",
   "metadata": {},
   "outputs": [],
   "source": [
    "_ = load_dotenv()"
   ]
  },
  {
   "cell_type": "code",
   "execution_count": 3,
   "id": "f81d0c6e",
   "metadata": {},
   "outputs": [
    {
     "data": {
      "application/mercury+json": "{\n    \"widget\": \"App\",\n    \"title\": \"Generate jokes with ChatGPT\",\n    \"description\": \"Use ChatGPT API to generate jokes\",\n    \"show_code\": false,\n    \"show_prompt\": false,\n    \"output\": \"app\",\n    \"schedule\": \"\",\n    \"notify\": \"{}\",\n    \"continuous_update\": true,\n    \"static_notebook\": false,\n    \"show_sidebar\": true,\n    \"full_screen\": true,\n    \"allow_download\": true,\n    \"stop_on_error\": false,\n    \"model_id\": \"mercury-app\",\n    \"code_uid\": \"App.0.40.25.1-rand9a4cbe87\"\n}",
      "text/html": [
       "<h3>Mercury Application</h3><small>This output won't appear in the web app.</small>"
      ],
      "text/plain": [
       "mercury.App"
      ]
     },
     "metadata": {},
     "output_type": "display_data"
    }
   ],
   "source": [
    "app = mr.App(title=\"Generate jokes with ChatGPT\", description=\"Use ChatGPT API to generate jokes\")"
   ]
  },
  {
   "cell_type": "markdown",
   "id": "b301859a",
   "metadata": {},
   "source": [
    "# Generate jokes with ChatGPT 😜\n",
    "\n",
    "Write a topic and generate joke with ChatGPT API"
   ]
  },
  {
   "cell_type": "code",
   "execution_count": 4,
   "id": "6113b408",
   "metadata": {},
   "outputs": [],
   "source": [
    "openai.api_key = os.getenv(\"OPENAI_API_KEY\")"
   ]
  },
  {
   "cell_type": "code",
   "execution_count": 5,
   "id": "f0137739",
   "metadata": {},
   "outputs": [
    {
     "data": {
      "application/mercury+json": "{\n    \"widget\": \"Text\",\n    \"value\": \"python\",\n    \"rows\": 1,\n    \"label\": \"Topic\",\n    \"model_id\": \"4eab43cfa7ef4cc68abac74da4e1741a\",\n    \"code_uid\": \"Text.0.40.15.1-rand657346c7\",\n    \"url_key\": \"\",\n    \"disabled\": false,\n    \"hidden\": false\n}",
      "application/vnd.jupyter.widget-view+json": {
       "model_id": "4eab43cfa7ef4cc68abac74da4e1741a",
       "version_major": 2,
       "version_minor": 0
      },
      "text/plain": [
       "mercury.Text"
      ]
     },
     "metadata": {},
     "output_type": "display_data"
    }
   ],
   "source": [
    "topic = mr.Text(label=\"Topic\", value=\"python\")"
   ]
  },
  {
   "cell_type": "code",
   "execution_count": 6,
   "id": "ce12315b",
   "metadata": {},
   "outputs": [
    {
     "data": {
      "application/mercury+json": "{\n    \"widget\": \"Button\",\n    \"label\": \"Generate a new joke\",\n    \"style\": \"primary\",\n    \"value\": false,\n    \"model_id\": \"84f80aaaf7b047ab941f24408c04769d\",\n    \"code_uid\": \"Button.0.40.11.1-rand2318a05e\",\n    \"disabled\": false,\n    \"hidden\": false\n}",
      "application/vnd.jupyter.widget-view+json": {
       "model_id": "84f80aaaf7b047ab941f24408c04769d",
       "version_major": 2,
       "version_minor": 0
      },
      "text/plain": [
       "mercury.Button"
      ]
     },
     "metadata": {},
     "output_type": "display_data"
    }
   ],
   "source": [
    "generate = mr.Button(label=\"Generate a new joke\")"
   ]
  },
  {
   "cell_type": "code",
   "execution_count": 7,
   "id": "e75363d5",
   "metadata": {},
   "outputs": [],
   "source": [
    "if generate.clicked:\n",
    "    completion = openai.ChatCompletion.create(\n",
    "                model=\"gpt-3.5-turbo\", \n",
    "                messages=[{\n",
    "                    \"role\": \"user\", \n",
    "                    \"content\": f\"Write a short joke about programming with {topic.value} as a topic\"\n",
    "                }])\n",
    "    print(completion.choices[0].message.content)"
   ]
  },
  {
   "cell_type": "code",
   "execution_count": null,
   "id": "cf987265",
   "metadata": {},
   "outputs": [],
   "source": []
  },
  {
   "cell_type": "code",
   "execution_count": null,
   "id": "b332113e",
   "metadata": {},
   "outputs": [],
   "source": []
  }
 ],
 "metadata": {
  "kernelspec": {
   "display_name": "jokenv",
   "language": "python",
   "name": "jokenv"
  },
  "language_info": {
   "codemirror_mode": {
    "name": "ipython",
    "version": 3
   },
   "file_extension": ".py",
   "mimetype": "text/x-python",
   "name": "python",
   "nbconvert_exporter": "python",
   "pygments_lexer": "ipython3",
   "version": "3.8.10"
  }
 },
 "nbformat": 4,
 "nbformat_minor": 5
}
